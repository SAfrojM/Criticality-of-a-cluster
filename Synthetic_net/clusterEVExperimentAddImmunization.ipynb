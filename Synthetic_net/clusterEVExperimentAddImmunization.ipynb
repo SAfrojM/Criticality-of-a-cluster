{
 "cells": [
  {
   "cell_type": "code",
   "execution_count": 1,
   "metadata": {},
   "outputs": [],
   "source": [
    "import numpy as np\n",
    "import pandas as pd\n",
    "import networkx as nx\n",
    "import matplotlib.pyplot as plt\n",
    "import EoN\n",
    "\n",
    "import seaborn as sns\n",
    "from operator import itemgetter\n",
    "import math\n",
    "import random\n",
    "import matplotlib.pyplot as plt\n",
    "import matplotlib.ticker as mtick\n",
    "from matplotlib.ticker import FuncFormatter\n"
   ]
  },
  {
   "cell_type": "code",
   "execution_count": null,
   "metadata": {},
   "outputs": [],
   "source": []
  },
  {
   "cell_type": "code",
   "execution_count": 59,
   "metadata": {},
   "outputs": [
    {
     "name": "stdout",
     "output_type": "stream",
     "text": [
      "20000\n",
      "599100\n",
      "59.91\n"
     ]
    }
   ],
   "source": [
    "N=20000\n",
    "ClusterRegion=2\n",
    "clusterSize=20\n",
    "clusterNo=2\n",
    "\n",
    "#G = nx.erdos_renyi_graph(N, p=0.003,seed=None, directed=False)\n",
    "G=nx.barabasi_albert_graph(N, m=30)\n",
    "#G = nx.watts_strogatz_graph(N, k = 4, p = 0.4)\n",
    "#sizes = [10000, 5000, 5000]\n",
    "#probs = [[0.01, 0.001, 0.00001], [0.001, 0.012, 0.002], [0.00001, 0.002, 0.013]]\n",
    "#G=nx.stochastic_block_model(sizes, probs, seed=0)\n",
    "print(G.number_of_nodes())\n",
    "print(G.number_of_edges())\n",
    "#nx.average_degree_connectivity(G)\n",
    "print(2*G.number_of_edges()/G.number_of_nodes())"
   ]
  },
  {
   "cell_type": "code",
   "execution_count": 60,
   "metadata": {},
   "outputs": [
    {
     "name": "stderr",
     "output_type": "stream",
     "text": [
      "/apps/software/standard/compiler/gcc/9.2.0/jupyter_conda/2020.11-py3.8/lib/python3.8/site-packages/seaborn/distributions.py:2551: FutureWarning: `distplot` is a deprecated function and will be removed in a future version. Please adapt your code to use either `displot` (a figure-level function with similar flexibility) or `histplot` (an axes-level function for histograms).\n",
      "  warnings.warn(msg, FutureWarning)\n"
     ]
    },
    {
     "data": {
      "text/plain": [
       "<AxesSubplot:>"
      ]
     },
     "execution_count": 60,
     "metadata": {},
     "output_type": "execute_result"
    },
    {
     "data": {
      "image/png": "[encoded data removed]",
      "text/plain": [
       "<Figure size 432x288 with 1 Axes>"
      ]
     },
     "metadata": {
      "needs_background": "light"
     },
     "output_type": "display_data"
    }
   ],
   "source": [
    "\n",
    "G.degree\n",
    "sns.distplot(sorted((d for n, d in G.degree()), reverse=True), kde = False, color ='red', bins = 30)"
   ]
  },
  {
   "cell_type": "code",
   "execution_count": 61,
   "metadata": {},
   "outputs": [],
   "source": [
    "###immunization any network\n",
    "uv=0.075\n",
    "node=np.array(list(G.nodes))\n",
    "uvaccineS=np.zeros(N, dtype=int)\n",
    "node_group=np.zeros(N, dtype=int)\n",
    "\n",
    "v=random.sample(range(0, N), int(N*uv))\n",
    "uvaccineS[v]=1\n",
    "node_df=pd.DataFrame(node, columns=['node'])\n",
    "node_df['unvaccine']=uvaccineS\n",
    "edge_df=nx.to_pandas_edgelist(G, nodelist=list(G.nodes))\n",
    "unvaccinated_subgraph= edge_df.loc[edge_df['source'].isin(v)&edge_df['target'].isin(v) ]"
   ]
  },
  {
   "cell_type": "code",
   "execution_count": 62,
   "metadata": {},
   "outputs": [
    {
     "name": "stdout",
     "output_type": "stream",
     "text": [
      "1424\n",
      "3011\n",
      "4.228932584269663\n"
     ]
    }
   ],
   "source": [
    "uvG=nx.Graph()\n",
    "uvG.add_edges_from(list(zip(unvaccinated_subgraph['source'], unvaccinated_subgraph['target'])))\n",
    "uN=len(v)\n",
    "print(uvG.number_of_nodes())\n",
    "print(uvG.number_of_edges())\n",
    "#nx.average_degree_connectivity(G)\n",
    "print(2*uvG.number_of_edges()/uvG.number_of_nodes())"
   ]
  },
  {
   "cell_type": "code",
   "execution_count": 63,
   "metadata": {},
   "outputs": [],
   "source": [
    "centrality = nx.eigenvector_centrality(uvG)\n",
    "centralityArray=np.array(list(centrality.items()))\n",
    "sc=sorted(centrality.items(), key=lambda x:x[1],reverse=True)\n",
    "scList=list(sc)\n",
    "scArray=np.array(scList)"
   ]
  },
  {
   "cell_type": "code",
   "execution_count": 64,
   "metadata": {},
   "outputs": [
    {
     "data": {
      "text/plain": [
       "array([[1.36000000e+02, 3.43820564e-01],\n",
       "       [1.03000000e+02, 3.07668910e-01],\n",
       "       [2.08000000e+02, 1.67232395e-01],\n",
       "       ...,\n",
       "       [1.31170000e+04, 8.18835115e-06],\n",
       "       [1.45500000e+04, 2.47747481e-26],\n",
       "       [1.75070000e+04, 2.47747481e-26]])"
      ]
     },
     "execution_count": 64,
     "metadata": {},
     "output_type": "execute_result"
    }
   ],
   "source": [
    "scArray"
   ]
  },
  {
   "cell_type": "code",
   "execution_count": 65,
   "metadata": {},
   "outputs": [],
   "source": [
    "def maximumClusterNodeSelect(scArray):\n",
    "    #print(scArray[0:math.floor(uN/3),0])\n",
    "    r=random.sample(scArray[0:math.floor(uN/3),0].tolist(), clusterSize)\n",
    "    \n",
    "    cluster=r\n",
    "    d=0\n",
    "    ev=0\n",
    "    for i in cluster:\n",
    "        d=d+uvG.degree[i]\n",
    "        ev=ev+centrality[i]\n",
    "    #print(d/clusterSize)\n",
    "    #print(cluster)\n",
    "    return cluster, d/clusterSize, ev/clusterSize\n",
    "        \n",
    "def clusterNodeSelect(scArray, c, avgD):\n",
    "    mi=999999\n",
    "    cluster_f=[]\n",
    "    for i in np.arange(1):\n",
    "        r=random.sample(scArray[math.floor(2*uN/3):uN,0].tolist(), clusterSize)\n",
    "        \n",
    "        cluster_f=r\n",
    "        d=0\n",
    "        for i in cluster_f:\n",
    "            d=d+uvG.degree[i]\n",
    "        av_d_f=d/clusterSize\n",
    "#         #print(av_d)\n",
    "#         #print(av_d)\n",
    "#         min_dif=abs(avgD-av_d)\n",
    "#         if min_dif<mi:\n",
    "#             mi=min_dif\n",
    "#             cluster_f=cluster\n",
    "#             av_d_f=av_d\n",
    "#             #print(av_d_f)\n",
    "            \n",
    "    #print(d/clusterSize)\n",
    "    #print(cluster)\n",
    "    print(av_d_f)\n",
    "    new_edge_no=math.floor((avgD-av_d_f)*clusterSize)\n",
    "    node=G.number_of_nodes()\n",
    "    print(new_edge_no)\n",
    "    for i in np.arange(new_edge_no):\n",
    "        \n",
    "        uvG.add_edge(math.floor(random.choice(list(cluster_f))), node+i)\n",
    "    d=0\n",
    "    for i in cluster_f:\n",
    "            d=d+uvG.degree[i]\n",
    "    av_d=d/clusterSize\n",
    "    print(av_d)\n",
    "    #print(len(cluster_f))\n",
    "    return cluster_f\n",
    "            \n"
   ]
  },
  {
   "cell_type": "code",
   "execution_count": 66,
   "metadata": {},
   "outputs": [],
   "source": [
    "def connect_node(clusterNodes):\n",
    "    \n",
    "    for i in np.arange(len(clusterNodes)-1):\n",
    "        uvG.add_edge(clusterNodes[i],int(clusterNodes[i+1]) )\n",
    "        "
   ]
  },
  {
   "cell_type": "code",
   "execution_count": 67,
   "metadata": {},
   "outputs": [
    {
     "name": "stdout",
     "output_type": "stream",
     "text": [
      "7.6\n",
      "cluster1\n",
      "1.85\n",
      "115\n",
      "7.6\n",
      "    cluster0  cluster1\n",
      "0     7473.0   18405.0\n",
      "1      206.0   17269.0\n",
      "2    17541.0   19408.0\n",
      "3     8928.0    6156.0\n",
      "4     1612.0   12171.0\n",
      "5      405.0    2249.0\n",
      "6    10811.0    3593.0\n",
      "7     6604.0   10339.0\n",
      "8    14582.0   19242.0\n",
      "9    16106.0   19105.0\n",
      "10    5888.0    2039.0\n",
      "11    4230.0   17301.0\n",
      "12    8907.0   11423.0\n",
      "13      24.0   10354.0\n",
      "14   19376.0    8239.0\n",
      "15   13170.0   12857.0\n",
      "16    1124.0   11885.0\n",
      "17     839.0   17548.0\n",
      "18   15833.0    9538.0\n",
      "19   13238.0   10743.0\n"
     ]
    }
   ],
   "source": [
    "avgD=10000\n",
    "ev=0\n",
    "clusteF=[]\n",
    "for i in np.arange(1):\n",
    "    cluster, avgd, evd=maximumClusterNodeSelect(scArray)\n",
    "    \n",
    "    if avgd<avgD:\n",
    "        avgD=avgd\n",
    "        clusteF=cluster\n",
    "clusterPd=pd.DataFrame(clusteF, columns=['cluster0'])\n",
    "#connect_node(clusteF)\n",
    "print(avgD)\n",
    "c=[3]\n",
    "\n",
    "for i in np.arange(clusterNo-1):\n",
    "    clu='cluster'+str(i+1)\n",
    "    print(clu)\n",
    "    \n",
    "    clusterPd[clu]=clusterNodeSelect(scArray, c[i], avgD)\n",
    "    #connect_node(clusterPd[clu])\n",
    "print(clusterPd)"
   ]
  },
  {
   "cell_type": "code",
   "execution_count": 68,
   "metadata": {},
   "outputs": [],
   "source": [
    "newCentrality=nx.eigenvector_centrality(uvG)\n",
    "newCentralityArray=np.array(list(newCentrality.items()))"
   ]
  },
  {
   "cell_type": "code",
   "execution_count": 69,
   "metadata": {},
   "outputs": [
    {
     "name": "stdout",
     "output_type": "stream",
     "text": [
      "0.336\n",
      "0.072\n"
     ]
    }
   ],
   "source": [
    "tau=0.3\n",
    "gamma=1\n",
    "repli=500\n",
    "episizeA=np.zeros(ClusterRegion)\n",
    "epicountA=np.zeros(ClusterRegion)\n",
    "degreeA=np.zeros(ClusterRegion)\n",
    "eigenvectorA=np.zeros(ClusterRegion)\n",
    "episize=np.zeros((repli,ClusterRegion), dtype=int)\n",
    "#aprint(episize)\n",
    "for c in np.arange(ClusterRegion):\n",
    "    #episize=0\n",
    "    epicount=0\n",
    "    \n",
    "    for i in np.arange(repli):\n",
    "        clu='cluster'+str(c)\n",
    "    \n",
    "        initial_infecteds=random.choice(clusterPd[clu])\n",
    "        t, S, I, R=EoN.fast_SIR(uvG, tau, gamma, initial_infecteds)\n",
    "        episize[i,c]=R[-1]\n",
    "        if R[-1]>100:\n",
    "            epicount=epicount+1\n",
    "\n",
    "    episizeA[c]=np.mean(episize[:,c])\n",
    "    epicountA[c]=epicount/repli\n",
    "    print(epicount/repli)\n",
    "    d=0\n",
    "    ev=0\n",
    "    for j in clusterPd[clu]:\n",
    "            d=d+uvG.degree[j]\n",
    "            ev=ev+newCentrality[j]\n",
    "    degreeA[c]=d/clusterSize\n",
    "    eigenvectorA[c]=ev/clusterSize\n",
    "\n"
   ]
  },
  {
   "cell_type": "code",
   "execution_count": 70,
   "metadata": {},
   "outputs": [
    {
     "data": {
      "text/plain": [
       "array([7.6, 7.6])"
      ]
     },
     "execution_count": 70,
     "metadata": {},
     "output_type": "execute_result"
    }
   ],
   "source": [
    "degreeA"
   ]
  },
  {
   "cell_type": "code",
   "execution_count": 71,
   "metadata": {},
   "outputs": [
    {
     "data": {
      "text/plain": [
       "array([0.03155473, 0.00182705])"
      ]
     },
     "execution_count": 71,
     "metadata": {},
     "output_type": "execute_result"
    }
   ],
   "source": [
    "eigenvectorA"
   ]
  },
  {
   "cell_type": "code",
   "execution_count": 72,
   "metadata": {},
   "outputs": [
    {
     "data": {
      "text/plain": [
       "array([0.336, 0.072])"
      ]
     },
     "execution_count": 72,
     "metadata": {},
     "output_type": "execute_result"
    }
   ],
   "source": [
    "epicountA"
   ]
  },
  {
   "cell_type": "code",
   "execution_count": 73,
   "metadata": {},
   "outputs": [
    {
     "data": {
      "text/plain": [
       "4.666666666666667"
      ]
     },
     "execution_count": 73,
     "metadata": {},
     "output_type": "execute_result"
    }
   ],
   "source": [
    "epicountA[0]/epicountA[1]"
   ]
  },
  {
   "cell_type": "code",
   "execution_count": 74,
   "metadata": {},
   "outputs": [
    {
     "data": {
      "text/plain": [
       "array([0.03155473, 0.00182705])"
      ]
     },
     "execution_count": 74,
     "metadata": {},
     "output_type": "execute_result"
    }
   ],
   "source": [
    "eigenvectorA"
   ]
  },
  {
   "cell_type": "code",
   "execution_count": 77,
   "metadata": {},
   "outputs": [
    {
     "data": {
      "image/png": "[encoded data removed]",
      "text/plain": [
       "<Figure size 216x216 with 1 Axes>"
      ]
     },
     "metadata": {
      "needs_background": "light"
     },
     "output_type": "display_data"
    }
   ],
   "source": [
    "\n",
    "fig = plt.figure(1, (3,3))\n",
    "ax = fig.add_axes([0,0,1,1])\n",
    "#c = [ 'saddlebrown', 'thistle', 'lightcoral']\n",
    "langs = ['Set1', 'Set2']\n",
    "count = epicountA\n",
    "plt.bar(langs,(count),color='tan', width=0.2)\n",
    "#ax.bar_label(count)\n",
    "#plt.tight_layout()\n",
    "#plt.gca().yaxis.set_major_formatter(mtick.PercentFormatter())\n",
    "#ax.yaxis.set_major_formatter(FuncFormatter(lambda y, _: '{:.0%}'.format(y))) \n",
    "plt.rcParams[\"font.size\"] = \"20\"\n",
    "#ax.set_ylim(0, 15)\n",
    "#ax.set_ylim(0, 0.07)\n",
    "ax.set_ylim(0, .4)\n",
    "fig.savefig(\"BAepicountA0.3\"+str(uv)+\".png\",dpi=300,bbox_inches='tight')\n",
    "\n"
   ]
  },
  {
   "cell_type": "code",
   "execution_count": 78,
   "metadata": {},
   "outputs": [
    {
     "data": {
      "image/png": "[encoded data removed]",
      "text/plain": [
       "<Figure size 216x216 with 1 Axes>"
      ]
     },
     "metadata": {
      "needs_background": "light"
     },
     "output_type": "display_data"
    }
   ],
   "source": [
    "\n",
    "fig = plt.figure(1, (3,3))\n",
    "ax = fig.add_axes([0,0,1,1])\n",
    "#c = [ 'saddlebrown', 'thistle', 'lightcoral']\n",
    "langs = ['Set1', 'Set2']\n",
    "count = eigenvectorA\n",
    "plt.bar(langs,(count),color='tan', width=0.2)\n",
    "#ax.bar_label(count)\n",
    "#plt.tight_layout()\n",
    "#plt.gca().yaxis.set_major_formatter(mtick.PercentFormatter())\n",
    "#ax.yaxis.set_major_formatter(FuncFormatter(lambda y, _: '{:.0%}'.format(y))) \n",
    "plt.rcParams[\"font.size\"] = \"20\"\n",
    "#ax.set_ylim(0, 15)\n",
    "ax.set_ylim(0, 0.04)\n",
    "#ax.set_ylim(0, 0.8)\n",
    "fig.savefig(\"BAeigenvectorA\"+str(uv)+\".png\",dpi=300,bbox_inches='tight')"
   ]
  },
  {
   "cell_type": "code",
   "execution_count": 79,
   "metadata": {},
   "outputs": [
    {
     "data": {
      "image/png": "[encoded data removed]",
      "text/plain": [
       "<Figure size 216x216 with 1 Axes>"
      ]
     },
     "metadata": {
      "needs_background": "light"
     },
     "output_type": "display_data"
    }
   ],
   "source": [
    "\n",
    "fig = plt.figure(1, (3,3))\n",
    "ax = fig.add_axes([0,0,1,1])\n",
    "#c = [ 'saddlebrown', 'thistle', 'lightcoral']\n",
    "langs = ['Set1', 'Set2']\n",
    "count = degreeA\n",
    "plt.bar(langs,(count),color='tan', width=0.2)\n",
    "#ax.bar_label(count)\n",
    "#plt.tight_layout()\n",
    "#plt.gca().yaxis.set_major_formatter(mtick.PercentFormatter())\n",
    "#ax.yaxis.set_major_formatter(FuncFormatter(lambda y, _: '{:.0%}'.format(y))) \n",
    "plt.rcParams[\"font.size\"] = \"20\"\n",
    "ax.set_ylim(0, 8)\n",
    "#ax.set_ylim(0, 0.04)\n",
    "#ax.set_ylim(0, 0.8)\n",
    "fig.savefig(\"BAdegreeA\"+str(uv)+\".png\",dpi=300,bbox_inches='tight')"
   ]
  },
  {
   "cell_type": "code",
   "execution_count": null,
   "metadata": {},
   "outputs": [],
   "source": [
    "fig_box, ax_box = plt.subplots()\n",
    "ax_box.boxplot(episize)\n",
    "fig_box.savefig(\"SBMepidemicsize.png\",dpi=300,bbox_inches='tight')"
   ]
  },
  {
   "cell_type": "code",
   "execution_count": null,
   "metadata": {},
   "outputs": [],
   "source": [
    "\n",
    "sum(newCentralityArray[clusterPd['cluster1'].astype('int').to_numpy(),1])\n"
   ]
  },
  {
   "cell_type": "code",
   "execution_count": null,
   "metadata": {},
   "outputs": [],
   "source": [
    "G.number_of_nodes()"
   ]
  },
  {
   "cell_type": "code",
   "execution_count": 359,
   "metadata": {},
   "outputs": [
    {
     "data": {
      "text/plain": [
       "(2.84, 2.14, 1.57, 1.38, 1.19, 1.25, 1.2)"
      ]
     },
     "execution_count": 359,
     "metadata": {},
     "output_type": "execute_result"
    }
   ],
   "source": [
    "#ERepicountratio unvaccination rate 0.075, 0.1,0.125,0.15\n",
    "2.84,2.14,1.57,1.38,1.19,1.25,1.2"
   ]
  },
  {
   "cell_type": "code",
   "execution_count": 360,
   "metadata": {},
   "outputs": [
    {
     "ename": "SyntaxError",
     "evalue": "invalid syntax (<ipython-input-360-4a5c465e084a>, line 3)",
     "output_type": "error",
     "traceback": [
      "\u001b[0;36m  File \u001b[0;32m\"<ipython-input-360-4a5c465e084a>\"\u001b[0;36m, line \u001b[0;32m3\u001b[0m\n\u001b[0;31m    ratio 3.58,2.41,1.705,1.655,1.42,1.54\u001b[0m\n\u001b[0m          ^\u001b[0m\n\u001b[0;31mSyntaxError\u001b[0m\u001b[0;31m:\u001b[0m invalid syntax\n"
     ]
    }
   ],
   "source": [
    "#BAepicountratio unvaccination rate 0.075, 0.1,0.125,0.15\n",
    "\n",
    "ratio 3.58,2.41,1.705,1.655,1.42,1.54\n",
    "\n",
    "0.412 0.55 0.648 0.724 0.744 0.738\n",
    "0.094 0.218 0.364 0.362 0.488 0.522"
   ]
  },
  {
   "cell_type": "code",
   "execution_count": 361,
   "metadata": {},
   "outputs": [
    {
     "ename": "SyntaxError",
     "evalue": "invalid syntax (<ipython-input-361-fce0f6d28bfc>, line 3)",
     "output_type": "error",
     "traceback": [
      "\u001b[0;36m  File \u001b[0;32m\"<ipython-input-361-fce0f6d28bfc>\"\u001b[0;36m, line \u001b[0;32m3\u001b[0m\n\u001b[0;31m    0.002 0.41  0.702 0.716 0.832 0.844 0.87 0.892 0.908 0.898 0.922 0.924 0.932\u001b[0m\n\u001b[0m          ^\u001b[0m\n\u001b[0;31mSyntaxError\u001b[0m\u001b[0;31m:\u001b[0m invalid syntax\n"
     ]
    }
   ],
   "source": [
    "#BAepicountratio tao 0.1 ,0.3,0.5\n",
    "\n",
    "0.002 0.41  0.702 0.716 0.832 0.844 0.87 0.892 0.908 0.898 0.922 0.924 0.932\n",
    "0.0 0.098  0.214  0.354 0.432 0.502 0.528 0.558 0.592 0.62 0.688 0.702 0.718"
   ]
  },
  {
   "cell_type": "code",
   "execution_count": 428,
   "metadata": {},
   "outputs": [
    {
     "name": "stderr",
     "output_type": "stream",
     "text": [
      "<ipython-input-428-39a5a324a872>:10: UserWarning: FixedFormatter should only be used together with FixedLocator\n",
      "  ax.set_xticklabels(x_value)\n"
     ]
    },
    {
     "data": {
      "image/png": "[encoded data removed]",
      "text/plain": [
       "<Figure size 432x288 with 1 Axes>"
      ]
     },
     "metadata": {
      "needs_background": "light"
     },
     "output_type": "display_data"
    }
   ],
   "source": [
    "set1=[0.412, 0.55, 0.648, 0.724, 0.744, 0.738]\n",
    "set2=[0.094, 0.218, 0.364, 0.362, 0.488, 0.522]\n",
    "uvRate=[7.5, 10, 12.5, 15, 17.5, 20]\n",
    "\n",
    "fig = plt.figure(1, (6,4))\n",
    "ax = fig.add_axes([0,0,1,1])\n",
    "plt.plot(uvRate, set1, color ='tab:blue',marker='o', label='set1') \n",
    "plt.plot(uvRate, set2, color ='tab:orange', marker='o',label='set2') \n",
    "x_value=['{:,}'.format(int(x)) + '%' for x in ax.get_xticks()]\n",
    "ax.set_xticklabels(x_value)\n",
    "ax.set_ylim(0, 1)\n",
    "plt.xlabel(\"Underimmunized rate\", fontname=\"Calibri\")\n",
    "plt.ylabel(\"Probability of outbreak size>100\", fontname=\"Calibri\")\n",
    "plt.legend()\n",
    "plt.show()\n",
    "fig.savefig(\"BASensitivity1\"+str(uv)+\".png\",dpi=300,bbox_inches='tight')"
   ]
  },
  {
   "cell_type": "code",
   "execution_count": 429,
   "metadata": {},
   "outputs": [
    {
     "data": {
      "image/png": "[encoded data removed]",
      "text/plain": [
       "<Figure size 432x288 with 1 Axes>"
      ]
     },
     "metadata": {
      "needs_background": "light"
     },
     "output_type": "display_data"
    }
   ],
   "source": [
    "set1=[0.002, 0.41 , 0.702, 0.716, 0.832 ,0.844 ,0.87, 0.892, 0.908, 0.898, 0.922, 0.924, 0.932]\n",
    "set2=[0.0 ,0.098,  0.214 , 0.354 ,0.432 ,0.502, 0.528, 0.558 ,0.592 ,0.62 ,0.688, 0.702, 0.718]\n",
    "uvRate=[0.1, 0.3, 0.5, 0.7, 0.9, 1.1, 1.3, 1.5, 1.7, 1.9, 2.1, 2.3, 2.5]\n",
    "\n",
    "fig = plt.figure(1, (6,4))\n",
    "ax = fig.add_axes([0,0,1,1])\n",
    "plt.plot(uvRate, set1, color ='tab:blue',marker='o', label='set1') \n",
    "plt.plot(uvRate, set2, color ='tab:orange', marker='o',label='set2') \n",
    "\n",
    "ax.set_ylim(0, 1)\n",
    "plt.xlabel(r'$ \\beta $', fontname=\"Calibri\")\n",
    "plt.ylabel(\"Probability of outbreak size>100\", fontname=\"Calibri\")\n",
    "plt.legend()\n",
    "plt.show()\n",
    "fig.savefig(\"BASensitivity2\"+str(uv)+\".png\",dpi=300,bbox_inches='tight')"
   ]
  },
  {
   "cell_type": "code",
   "execution_count": null,
   "metadata": {},
   "outputs": [],
   "source": []
  }
 ],
 "metadata": {
  "kernelspec": {
   "display_name": "Python 3",
   "language": "python",
   "name": "python3"
  },
  "language_info": {
   "codemirror_mode": {
    "name": "ipython",
    "version": 3
   },
   "file_extension": ".py",
   "mimetype": "text/x-python",
   "name": "python",
   "nbconvert_exporter": "python",
   "pygments_lexer": "ipython3",
   "version": "3.8.8"
  }
 },
 "nbformat": 4,
 "nbformat_minor": 4
}
